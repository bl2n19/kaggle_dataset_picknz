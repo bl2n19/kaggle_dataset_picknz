{
 "cells": [
  {
   "cell_type": "code",
   "execution_count": 10,
   "id": "f823fff5-d15d-40d8-9dfd-bb716824b3ec",
   "metadata": {},
   "outputs": [],
   "source": [
    "import requests\n",
    "from bs4 import BeautifulSoup\n",
    "import re\n",
    "import pandas as pd\n",
    "from datetime import date, datetime, timedelta\n",
    "from tqdm import tqdm\n",
    "import time"
   ]
  },
  {
   "cell_type": "code",
   "execution_count": 11,
   "id": "74583032-1b9f-43d9-98b9-bb3f57c6a19c",
   "metadata": {},
   "outputs": [],
   "source": [
    "class PickNZCrawler:\n",
    "    def __init__(self):\n",
    "        self.total_page = self.total_page()\n",
    "        # self.total_page = 1\n",
    "    def start(self):\n",
    "        result_list = []\n",
    "        for page_number in tqdm(range(1, self.total_page+1)):\n",
    "            start_url = f'https://jobs.picknz.co.nz/page/{page_number}/'\n",
    "            result_list = result_list + self.get_all_urls(start_url)\n",
    "            time.sleep(60)\n",
    "        return result_list\n",
    "    def total_page(self):\n",
    "        response = requests.get('https://jobs.picknz.co.nz')\n",
    "        soup = BeautifulSoup(response.text)\n",
    "        total_pages = int(soup.find_all('a', class_=\"page-numbers\")[-2].get_text())\n",
    "        return total_pages\n",
    "    \n",
    "    def get_all_urls(self, input_url):\n",
    "        page_list = []\n",
    "        response = requests.get(input_url)\n",
    "        soup = BeautifulSoup(response.text)\n",
    "        soup_urls = soup.find_all(\"td\", class_=\"wpjb-column-title\")\n",
    "        for soup_url in tqdm(soup_urls):\n",
    "            url = soup_url.find('a').get('href')\n",
    "            page_list.append(self.parse_each_job(url))\n",
    "        return page_list\n",
    "\n",
    "    def parse_each_job(self, input_url):\n",
    "        result_dict = {}\n",
    "        response = requests.get(input_url)\n",
    "        soup = BeautifulSoup(response.text)\n",
    "        title = soup.title.get_text().split(' - Jobs')[0]\n",
    "        view_count = soup.find('div', class_='wpjb-grid-col wpjb-col-65').get_text().strip()\n",
    "        employer_name = soup.find('span', class_='vcard author').find('span', class_='fn').get_text().strip()\n",
    "        location = soup.find_all('td', {'class': 'wpjb-info-label'})[1].find_next().get_text().strip()\n",
    "        post_date = soup.find_all('td', {'class': 'wpjb-info-label'})[2].find_next().get_text().strip()\n",
    "        job_category = soup.find_all('td', {'class': 'wpjb-info-label'})[3].find_next().get_text().strip()\n",
    "        job_type = soup.find_all('td', {'class': 'wpjb-info-label'})[4].find_next().get_text().strip()\n",
    "        number_of_vacancies = soup.find_all('td', {'class': 'wpjb-info-label'})[5].find_next().get_text().strip()\n",
    "        start_date = soup.find_all('td', {'class': 'wpjb-info-label'})[6].find_next().get_text().strip()\n",
    "        end_date = soup.find_all('td', {'class': 'wpjb-info-label'})[7].find_next().get_text().strip()\n",
    "        rate = soup.find_all('td', {'class': 'wpjb-info-label'})[8].find_next().get_text().strip()\n",
    "        try:\n",
    "            benefits = soup.find_all('td', {'class': 'wpjb-info-label'})[9].find_next().get_text().strip()\n",
    "        except IndexError:\n",
    "            benefits = None\n",
    "        description = soup.find('meta', {'property': 'og:description'}).get('content')\n",
    "        result_dict['job_title'] =  title\n",
    "        result_dict['view_count'] =  int(view_count)\n",
    "        result_dict['employer_name'] =  employer_name\n",
    "        result_dict['location'] =  location\n",
    "        result_dict['post_date'] =  datetime.strptime(post_date, '%d/%m/%Y').date()\n",
    "        result_dict['job_category'] =  job_category\n",
    "        result_dict['job_type'] =  job_type\n",
    "        result_dict['number_of_vacancies'] =  number_of_vacancies\n",
    "        result_dict['start_date'] =  datetime.strptime(start_date, '%Y/%m/%d').date()\n",
    "        result_dict['end_date'] =  datetime.strptime(end_date, '%Y/%m/%d').date()\n",
    "        result_dict['rate'] =  rate\n",
    "        result_dict['benefits'] =  benefits\n",
    "        result_dict['description'] =  description\n",
    "        return result_dict"
   ]
  },
  {
   "cell_type": "code",
   "execution_count": null,
   "id": "382353fc-d1bd-45b7-9ee8-6cdf9e638af3",
   "metadata": {
    "scrolled": true,
    "tags": []
   },
   "outputs": [],
   "source": [
    "if __name__==\"__main__\":\n",
    "    spider = PickNZCrawler()\n",
    "    df = spider.start()"
   ]
  },
  {
   "cell_type": "code",
   "execution_count": 13,
   "id": "67d5807b-e188-465b-b30f-a516c54a5c72",
   "metadata": {
    "scrolled": true,
    "tags": []
   },
   "outputs": [
    {
     "name": "stderr",
     "output_type": "stream",
     "text": [
      "100%|███████████████████████████████████████████| 20/20 [01:17<00:00,  3.89s/it]\n"
     ]
    }
   ],
   "source": [
    "spider = PickNZCrawler()\n",
    "list_1 = spider.get_all_urls('https://jobs.picknz.co.nz/page/1')"
   ]
  },
  {
   "cell_type": "code",
   "execution_count": 14,
   "id": "a68e4fef-7f23-45ec-a824-ed0ac5854c41",
   "metadata": {},
   "outputs": [
    {
     "name": "stderr",
     "output_type": "stream",
     "text": [
      "100%|███████████████████████████████████████████| 20/20 [01:23<00:00,  4.18s/it]\n"
     ]
    }
   ],
   "source": [
    "list_2 = spider.get_all_urls('https://jobs.picknz.co.nz/page/2')"
   ]
  },
  {
   "cell_type": "code",
   "execution_count": 15,
   "id": "b53a0718-b4c8-431a-b50b-9982e493094a",
   "metadata": {},
   "outputs": [
    {
     "name": "stderr",
     "output_type": "stream",
     "text": [
      "100%|███████████████████████████████████████████| 20/20 [01:20<00:00,  4.00s/it]\n"
     ]
    }
   ],
   "source": [
    "list_3 = spider.get_all_urls('https://jobs.picknz.co.nz/page/3')"
   ]
  },
  {
   "cell_type": "code",
   "execution_count": 16,
   "id": "698af754-937c-4d1f-a190-828fabf02eac",
   "metadata": {},
   "outputs": [
    {
     "name": "stderr",
     "output_type": "stream",
     "text": [
      "100%|███████████████████████████████████████████| 20/20 [01:21<00:00,  4.10s/it]\n"
     ]
    }
   ],
   "source": [
    "list_4 = spider.get_all_urls('https://jobs.picknz.co.nz/page/4')"
   ]
  },
  {
   "cell_type": "code",
   "execution_count": 17,
   "id": "9a5b5ce0-9f0f-4e1c-8830-970eb22bc627",
   "metadata": {},
   "outputs": [
    {
     "name": "stderr",
     "output_type": "stream",
     "text": [
      "100%|███████████████████████████████████████████| 20/20 [01:25<00:00,  4.26s/it]\n"
     ]
    }
   ],
   "source": [
    "list_5 = spider.get_all_urls('https://jobs.picknz.co.nz/page/5')"
   ]
  },
  {
   "cell_type": "code",
   "execution_count": 18,
   "id": "2884f0fd-45ad-4d76-ac16-183c4a642c99",
   "metadata": {},
   "outputs": [
    {
     "name": "stderr",
     "output_type": "stream",
     "text": [
      "100%|███████████████████████████████████████████| 20/20 [01:24<00:00,  4.21s/it]\n"
     ]
    }
   ],
   "source": [
    "list_6 = spider.get_all_urls('https://jobs.picknz.co.nz/page/6')"
   ]
  },
  {
   "cell_type": "code",
   "execution_count": 19,
   "id": "abd53800-391f-4d30-a434-ab19930b48ab",
   "metadata": {},
   "outputs": [
    {
     "name": "stderr",
     "output_type": "stream",
     "text": [
      "100%|███████████████████████████████████████████| 20/20 [01:37<00:00,  4.89s/it]\n"
     ]
    }
   ],
   "source": [
    "list_7 = spider.get_all_urls('https://jobs.picknz.co.nz/page/7')"
   ]
  },
  {
   "cell_type": "code",
   "execution_count": 20,
   "id": "27478e7f-b073-4a01-87b9-defc6fa5be31",
   "metadata": {},
   "outputs": [
    {
     "name": "stderr",
     "output_type": "stream",
     "text": [
      "100%|███████████████████████████████████████████| 20/20 [02:49<00:00,  8.46s/it]\n"
     ]
    }
   ],
   "source": [
    "list_8 = spider.get_all_urls('https://jobs.picknz.co.nz/page/8')"
   ]
  },
  {
   "cell_type": "code",
   "execution_count": 21,
   "id": "60ad614f-e755-4dd4-a913-2e4d2a052f69",
   "metadata": {},
   "outputs": [
    {
     "name": "stderr",
     "output_type": "stream",
     "text": [
      "100%|███████████████████████████████████████████| 20/20 [01:58<00:00,  5.93s/it]\n"
     ]
    }
   ],
   "source": [
    "list_9 = spider.get_all_urls('https://jobs.picknz.co.nz/page/9')"
   ]
  },
  {
   "cell_type": "code",
   "execution_count": 38,
   "id": "e5551125-17a2-44f0-9571-9e92ec755bfe",
   "metadata": {},
   "outputs": [
    {
     "name": "stderr",
     "output_type": "stream",
     "text": [
      "100%|███████████████████████████████████████████| 20/20 [01:23<00:00,  4.20s/it]\n"
     ]
    }
   ],
   "source": [
    "list_10 = spider.get_all_urls('https://jobs.picknz.co.nz/page/10')"
   ]
  },
  {
   "cell_type": "code",
   "execution_count": 39,
   "id": "81344af1-c1ea-4b30-a69d-3a61c5c5bf91",
   "metadata": {},
   "outputs": [
    {
     "name": "stderr",
     "output_type": "stream",
     "text": [
      "100%|███████████████████████████████████████████| 20/20 [01:26<00:00,  4.34s/it]\n"
     ]
    }
   ],
   "source": [
    "list_11 = spider.get_all_urls('https://jobs.picknz.co.nz/page/11')"
   ]
  },
  {
   "cell_type": "code",
   "execution_count": 40,
   "id": "9bae5ffd-612c-4226-855d-20790fdd99ad",
   "metadata": {},
   "outputs": [
    {
     "name": "stderr",
     "output_type": "stream",
     "text": [
      "100%|███████████████████████████████████████████| 20/20 [01:30<00:00,  4.53s/it]\n"
     ]
    }
   ],
   "source": [
    "list_12 = spider.get_all_urls('https://jobs.picknz.co.nz/page/12')"
   ]
  },
  {
   "cell_type": "code",
   "execution_count": 41,
   "id": "b1fccf56-1759-4ec6-b266-be24ead08623",
   "metadata": {},
   "outputs": [
    {
     "name": "stderr",
     "output_type": "stream",
     "text": [
      "100%|█████████████████████████████████████████████| 3/3 [00:11<00:00,  3.73s/it]\n"
     ]
    }
   ],
   "source": [
    "list_13 = spider.get_all_urls('https://jobs.picknz.co.nz/page/13')"
   ]
  },
  {
   "cell_type": "code",
   "execution_count": 42,
   "id": "ce3045e5-1e60-422f-aff3-e1282820e3fa",
   "metadata": {},
   "outputs": [],
   "source": [
    "result_list = list_1 + list_2 + list_3 + list_4 + list_5 + list_6 + list_7 + list_8 + list_9 + list_10 + list_11 + list_12 + list_13"
   ]
  },
  {
   "cell_type": "code",
   "execution_count": 43,
   "id": "80fcb56c-4d83-440d-8384-daae44ed3c47",
   "metadata": {},
   "outputs": [],
   "source": [
    "df = pd.DataFrame(result_list)"
   ]
  },
  {
   "cell_type": "code",
   "execution_count": 49,
   "id": "e9270ad4-cfc4-41b8-9714-a13ee4bbcb51",
   "metadata": {},
   "outputs": [
    {
     "data": {
      "text/plain": [
       "datetime.date(2021, 9, 2)"
      ]
     },
     "execution_count": 49,
     "metadata": {},
     "output_type": "execute_result"
    }
   ],
   "source": [
    "df.post_date.min()"
   ]
  },
  {
   "cell_type": "code",
   "execution_count": 47,
   "id": "973224af-2304-47cd-991a-cfe097fdd3ef",
   "metadata": {},
   "outputs": [],
   "source": [
    "df.to_csv(f'pick_nz_{date.today().year}{date.today().month}{date.today().day}.csv')\n",
    "df.to_csv(f'pick_nz.csv')"
   ]
  }
 ],
 "metadata": {
  "kernelspec": {
   "display_name": "Python 3 (ipykernel)",
   "language": "python",
   "name": "python3"
  },
  "language_info": {
   "codemirror_mode": {
    "name": "ipython",
    "version": 3
   },
   "file_extension": ".py",
   "mimetype": "text/x-python",
   "name": "python",
   "nbconvert_exporter": "python",
   "pygments_lexer": "ipython3",
   "version": "3.10.6"
  }
 },
 "nbformat": 4,
 "nbformat_minor": 5
}
